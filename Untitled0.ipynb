{
  "nbformat": 4,
  "nbformat_minor": 0,
  "metadata": {
    "colab": {
      "provenance": []
    },
    "kernelspec": {
      "name": "python3",
      "display_name": "Python 3"
    },
    "language_info": {
      "name": "python"
    }
  },
  "cells": [
    {
      "cell_type": "code",
      "execution_count": null,
      "metadata": {
        "id": "MixlxpbAaIdx"
      },
      "outputs": [],
      "source": []
    },
    {
      "cell_type": "markdown",
      "source": [
        "1 :: Explain the key feature of python that make it a popular choice of programming.\n",
        "\n",
        "Key features of python are:\n",
        "- Readability and simplicity:It emphasizez code readability with its clean and easy to understand.\n",
        "\n",
        "- Cross Plateform Compability: It can run on different OS such as Windows, macOS, Linux etc.\n",
        "\n",
        "- Interpreted Language: It allows for quick testing and debugging wihout compiling code.\n",
        "\n",
        "- Integration Capabilities: It can easily integrate with other language such as C,C++ and JAVA and technologies such as database and webservices.\n",
        "\n",
        "\n",
        "\n",
        "2 :: Describe the role of predefined keywords in the pyhton and provide example how they are used in a programm.\n",
        "\n",
        "Predefined  keywords are specific words that have a special meaning and purpose.\n",
        "Some commonly used keywords are:\n",
        "\n",
        "- Logical Operators: and, or, not.\n",
        "- Conditional: if, else.\n",
        "- Loop: for, while, break.\n",
        "- Defining function: def, return.\n",
        "\n"
      ],
      "metadata": {
        "id": "_QK92jQBaRSq"
      }
    },
    {
      "cell_type": "code",
      "source": [
        "x=1\n",
        "y=2\n",
        "z=3\n",
        "if x<y and y<z:\n",
        "  print(\"True\")"
      ],
      "metadata": {
        "colab": {
          "base_uri": "https://localhost:8080/"
        },
        "id": "8AV52IMEAvbv",
        "outputId": "ffc7159f-41ae-4980-ec36-b56e615a43ba"
      },
      "execution_count": 5,
      "outputs": [
        {
          "output_type": "stream",
          "name": "stdout",
          "text": [
            "True\n"
          ]
        }
      ]
    },
    {
      "cell_type": "code",
      "source": [
        "\n",
        "age = 20\n",
        "\n",
        "if age >= 18:\n",
        "  print(\"You are an adult.\")\n",
        "else:\n",
        "  print(\"You are a minor.\")\n"
      ],
      "metadata": {
        "colab": {
          "base_uri": "https://localhost:8080/"
        },
        "id": "dTpxj-RFCOQz",
        "outputId": "846e6e0e-4b2f-40ef-fa70-485d31509979"
      },
      "execution_count": 7,
      "outputs": [
        {
          "output_type": "stream",
          "name": "stdout",
          "text": [
            "You are an adult.\n"
          ]
        }
      ]
    },
    {
      "cell_type": "code",
      "source": [
        "for i in range(5):\n",
        "  print(i)\n",
        "\n",
        "# You can also iterate through a list\n",
        "my_list = ['apple', 'banana', 'cherry']\n",
        "for item in my_list:\n",
        "  print(item)\n"
      ],
      "metadata": {
        "colab": {
          "base_uri": "https://localhost:8080/"
        },
        "id": "-d_UYlw72F_H",
        "outputId": "32fbd84a-818a-47c8-88c2-f34a4993a27c"
      },
      "execution_count": 8,
      "outputs": [
        {
          "output_type": "stream",
          "name": "stdout",
          "text": [
            "0\n",
            "1\n",
            "2\n",
            "3\n",
            "4\n",
            "apple\n",
            "banana\n",
            "cherry\n"
          ]
        }
      ]
    },
    {
      "cell_type": "markdown",
      "source": [
        "3:: Compare and contrast mutable and immutable objects in python with example.\n",
        "\n",
        "Mutable - The objects that can be changed after creation are known as mutable.\n",
        "Some mutable data types are list, array, set etc.\n",
        "\n",
        "Example:\n"
      ],
      "metadata": {
        "id": "DxFtFiyX2d2S"
      }
    },
    {
      "cell_type": "code",
      "source": [
        "my_list = [1, 2, 3]\n",
        "my_list.append(4)\n",
        "print(my_list)"
      ],
      "metadata": {
        "colab": {
          "base_uri": "https://localhost:8080/"
        },
        "id": "WaavayyI4faF",
        "outputId": "de1483c4-d1ae-43fb-b483-2b8284b82300"
      },
      "execution_count": 9,
      "outputs": [
        {
          "output_type": "stream",
          "name": "stdout",
          "text": [
            "[1, 2, 3, 4]\n"
          ]
        }
      ]
    },
    {
      "cell_type": "markdown",
      "source": [
        "Immutable - Immutable objects can't be changed after creation, such as strings,bytes.\n",
        "\n",
        "Example:"
      ],
      "metadata": {
        "id": "07rGFr304pZD"
      }
    },
    {
      "cell_type": "code",
      "source": [
        "my_string = \"Hello\"\n",
        "new_string = my_string + \" World\"\n",
        "print(new_string)"
      ],
      "metadata": {
        "colab": {
          "base_uri": "https://localhost:8080/"
        },
        "id": "fOZZC3dg45eE",
        "outputId": "230fd136-46a5-4f6b-fb91-9f845d78782e"
      },
      "execution_count": 10,
      "outputs": [
        {
          "output_type": "stream",
          "name": "stdout",
          "text": [
            "Hello World\n"
          ]
        }
      ]
    },
    {
      "cell_type": "markdown",
      "source": [
        "4:: Discuss different type of opetarors in python and provide example how they are used.\n",
        "\n",
        "These operators are needed to perform various operations in Python such as arithmetic calculations, logical evaluations etc.\n",
        "\n",
        "Python language supports various types of operators are:\n",
        "1- Arithmetic Operators\n",
        "2- Comparison (Relational) Operators\n",
        "3- Assignment Operators\n",
        "4- Logical Operators\n",
        "5- Bitwise Operators\n",
        "7- Membership Operators\n",
        "8- Identity Operators\n"
      ],
      "metadata": {
        "id": "4d-O7JPm5Rj1"
      }
    },
    {
      "cell_type": "code",
      "source": [
        "a = 21\n",
        "b = 10\n",
        "# Addition\n",
        "print (\"a + b : \", a + b)\n",
        "# Subtraction\n",
        "print (\"a - b : \", a - b)\n",
        "# Multiplication\n",
        "print (\"a * b : \", a * b)\n",
        "# Division\n",
        "print (\"a / b : \", a / b)\n",
        "# Modulus\n",
        "print (\"a % b : \", a % b)\n",
        "# Exponent\n",
        "print (\"a ** b : \", a ** b)\n",
        "# Floor Division\n",
        "print (\"a // b : \", a // b)"
      ],
      "metadata": {
        "colab": {
          "base_uri": "https://localhost:8080/"
        },
        "id": "kgMxNRBlCayW",
        "outputId": "d9b705a1-61ad-4b21-8061-b74daa197f56"
      },
      "execution_count": 13,
      "outputs": [
        {
          "output_type": "stream",
          "name": "stdout",
          "text": [
            "a + b :  31\n",
            "a - b :  11\n",
            "a * b :  210\n",
            "a / b :  2.1\n",
            "a % b :  1\n",
            "a ** b :  16679880978201\n",
            "a // b :  2\n"
          ]
        }
      ]
    },
    {
      "cell_type": "markdown",
      "source": [
        "5:: Explain the concept of type casting in python with example.\n",
        "\n",
        "There are two types of casting in python.\n",
        "1: Implicit\n",
        "2 : Explicit\n",
        "\n",
        "Example:\n",
        "\n",
        "\n"
      ],
      "metadata": {
        "id": "lmjSQgNcDEvm"
      }
    },
    {
      "cell_type": "code",
      "source": [
        "integer_number = 10\n",
        "float_number = 5.5\n",
        "\n",
        "result = integer_number + float_number\n",
        "\n",
        "print(\"Result:\", result)\n",
        "print(\"Data type of result:\", type(result))\n"
      ],
      "metadata": {
        "colab": {
          "base_uri": "https://localhost:8080/"
        },
        "id": "XHd078u1FygX",
        "outputId": "8c7d050c-2851-4aea-91b2-e70cf7b39aaa"
      },
      "execution_count": 14,
      "outputs": [
        {
          "output_type": "stream",
          "name": "stdout",
          "text": [
            "Result: 15.5\n",
            "Data type of result: <class 'float'>\n"
          ]
        }
      ]
    },
    {
      "cell_type": "code",
      "source": [
        "string_number = \"10\"\n",
        "integer_number = int(string_number)\n",
        "\n",
        "print(\"Integer number:\", integer_number)\n",
        "print(\"Data type of integer_number:\", type(integer_number))\n",
        "\n",
        "float_number = float(\"5.5\")\n",
        "\n",
        "print(\"Float number:\", float_number)\n",
        "print(\"Data type of float_number:\", type(float_number))\n"
      ],
      "metadata": {
        "colab": {
          "base_uri": "https://localhost:8080/"
        },
        "id": "EodXwHUTGAbg",
        "outputId": "0bddc6c6-3c1a-46e2-e5c9-05dd63fd6852"
      },
      "execution_count": 15,
      "outputs": [
        {
          "output_type": "stream",
          "name": "stdout",
          "text": [
            "Integer number: 10\n",
            "Data type of integer_number: <class 'int'>\n",
            "Float number: 5.5\n",
            "Data type of float_number: <class 'float'>\n"
          ]
        }
      ]
    },
    {
      "cell_type": "markdown",
      "source": [
        "6:: How do conditional statements work in python? Illustrate with example.\n",
        "\n",
        "Conditional statemnts allow you to execute code based on certain conditions.\n",
        "\n",
        "Example:"
      ],
      "metadata": {
        "id": "bhyhprGBJzL0"
      }
    },
    {
      "cell_type": "code",
      "source": [
        "age = 20\n",
        "\n",
        "if age >= 18:\n",
        "  print(\"You are an adult.\")\n",
        "else:\n",
        "  print(\"You are a minor.\")\n"
      ],
      "metadata": {
        "colab": {
          "base_uri": "https://localhost:8080/"
        },
        "id": "ukKMnOcULVPp",
        "outputId": "8ef2b5e9-45b9-4746-d8d8-51f13e499f82"
      },
      "execution_count": 16,
      "outputs": [
        {
          "output_type": "stream",
          "name": "stdout",
          "text": [
            "You are an adult.\n"
          ]
        }
      ]
    },
    {
      "cell_type": "markdown",
      "source": [
        "7:: Describe different type of loop in python and their use cases with example.\n",
        "\n",
        "There are three primary types of loop are:\n",
        "1- For Loop\n",
        "2- While Loop\n",
        "3- Nested Loop\n"
      ],
      "metadata": {
        "id": "ehUhlKTeLoA2"
      }
    },
    {
      "cell_type": "code",
      "source": [
        "for i in range(5):\n",
        "  print(i)\n"
      ],
      "metadata": {
        "colab": {
          "base_uri": "https://localhost:8080/"
        },
        "id": "Bx50RGuJMqiV",
        "outputId": "b76d8f36-5d85-43e9-a785-c12942a3873f"
      },
      "execution_count": 18,
      "outputs": [
        {
          "output_type": "stream",
          "name": "stdout",
          "text": [
            "0\n",
            "1\n",
            "2\n",
            "3\n",
            "4\n"
          ]
        }
      ]
    },
    {
      "cell_type": "code",
      "source": [
        "count = 0\n",
        "\n",
        "while count < 5:\n",
        "  print(\"Count:\", count)\n",
        "  count += 1\n",
        "\n",
        "print(\"Loop finished!\")\n"
      ],
      "metadata": {
        "colab": {
          "base_uri": "https://localhost:8080/"
        },
        "id": "KQ-R1KzYM7Q6",
        "outputId": "a2377cb8-cc14-4114-ff30-5fb85e94200b"
      },
      "execution_count": 19,
      "outputs": [
        {
          "output_type": "stream",
          "name": "stdout",
          "text": [
            "Count: 0\n",
            "Count: 1\n",
            "Count: 2\n",
            "Count: 3\n",
            "Count: 4\n",
            "Loop finished!\n"
          ]
        }
      ]
    },
    {
      "cell_type": "code",
      "source": [
        "for i in range(3):\n",
        "  for j in range(2):\n",
        "    print(f\"Outer loop: {i}, Inner loop: {j}\")\n"
      ],
      "metadata": {
        "colab": {
          "base_uri": "https://localhost:8080/"
        },
        "id": "XAVIl-HpNLRP",
        "outputId": "71d903d0-4093-4247-ece7-a9d06886fbcf"
      },
      "execution_count": 20,
      "outputs": [
        {
          "output_type": "stream",
          "name": "stdout",
          "text": [
            "Outer loop: 0, Inner loop: 0\n",
            "Outer loop: 0, Inner loop: 1\n",
            "Outer loop: 1, Inner loop: 0\n",
            "Outer loop: 1, Inner loop: 1\n",
            "Outer loop: 2, Inner loop: 0\n",
            "Outer loop: 2, Inner loop: 1\n"
          ]
        }
      ]
    }
  ]
}